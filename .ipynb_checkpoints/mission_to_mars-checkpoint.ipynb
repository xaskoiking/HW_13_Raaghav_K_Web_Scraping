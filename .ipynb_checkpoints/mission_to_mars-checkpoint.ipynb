{
 "cells": [
  {
   "cell_type": "code",
   "execution_count": 14,
   "metadata": {},
   "outputs": [],
   "source": [
    "#Importing Dependencies\n",
    "from splinter import Browser\n",
    "from bs4 import BeautifulSoup"
   ]
  },
  {
   "cell_type": "code",
   "execution_count": 15,
   "metadata": {},
   "outputs": [],
   "source": [
    "#Declaring variables\n",
    "\n",
    "\n",
    "#1.0) URL to fetch the Latest News Title and Paragraph Text\n",
    "mars_news = \"https://mars.nasa.gov/news/?page=0&per_page=40&order=publish_date+desc%2Ccreated_at+desc&search=&category=19%2C165%2C184%2C204&blank_scope=Latest\"\n",
    "\n",
    "#2.0) URL to fetch the MARS image\n",
    "mars_image = \"https://www.jpl.nasa.gov/spaceimages/?search=&category=Mars\"\n",
    "\n",
    "#3.0) URL to get twitter details\n",
    "twitter_details = \"https://twitter.com/marswxreport?lang=en\""
   ]
  },
  {
   "cell_type": "code",
   "execution_count": 16,
   "metadata": {},
   "outputs": [],
   "source": [
    "# Function to call the chrome driver\n",
    "def init_browser():\n",
    "    # @NOTE: Replace the path with your actual path to the chromedriver\n",
    "    executable_path = {\"executable_path\": \"C:/chromedriver_win32/chromedriver.exe\"}\n",
    "    return Browser(\"chrome\", **executable_path, headless=False)\n"
   ]
  },
  {
   "cell_type": "code",
   "execution_count": 17,
   "metadata": {},
   "outputs": [],
   "source": [
    "#Initializing the browswer\n",
    "browser = init_browser()"
   ]
  },
  {
   "cell_type": "markdown",
   "metadata": {},
   "source": [
    "<b> MARS News Title and Paragraph </b>"
   ]
  },
  {
   "cell_type": "code",
   "execution_count": 18,
   "metadata": {},
   "outputs": [],
   "source": [
    "#Scraping the URL\n",
    "browser.visit(mars_news)\n",
    "html = browser.html\n",
    "soup = BeautifulSoup(html, \"html.parser\")\n",
    "\n",
    "#Finding the latest News Title Header\n",
    "newsTitleHeader = soup.find('div', attrs={'class':'content_title'})\n",
    "newsParaText = soup.find('div', attrs={'class':'article_teaser_body'})\n",
    "\n",
    "#Grabbing the news title\n",
    "for a in newsTitleHeader.find_all('a'):\n",
    "    newsTitle = a.text #for getting text between the link\n",
    "\n",
    "#Storing the news Para Text\n",
    "newsParaText = newsParaText.text"
   ]
  },
  {
   "cell_type": "code",
   "execution_count": 19,
   "metadata": {},
   "outputs": [],
   "source": [
    "# ----- SUPPORTING CODES ------\n",
    "#for a in price_box.find_all('a'):\n",
    "#    print(a.get('href')) #for getting link\n",
    "#    print(a.text) #for getting text between the link"
   ]
  },
  {
   "cell_type": "markdown",
   "metadata": {},
   "source": [
    "<b> MARS Image </b>"
   ]
  },
  {
   "cell_type": "code",
   "execution_count": 20,
   "metadata": {},
   "outputs": [],
   "source": [
    "#Scraping the URL\n",
    "browser.visit(mars_image)\n",
    "html = browser.html\n",
    "soup = BeautifulSoup(html, \"html.parser\")\n",
    "\n",
    "#Finding the latest News Title Header\n",
    "featureImage = soup.find('article', attrs={'class':'carousel_item'})\n",
    "\n",
    "featuredImageBuffer = featureImage.attrs['style']\n",
    "featured_image_url  = \"https://www.jpl.nasa.gov\" + featuredImageBuffer[featuredImageBuffer.find('url') + 5: len(featuredImageBuffer) - 3]\n"
   ]
  },
  {
   "cell_type": "markdown",
   "metadata": {},
   "source": [
    "<b> Twitter Details on temperature </b>"
   ]
  },
  {
   "cell_type": "code",
   "execution_count": 76,
   "metadata": {},
   "outputs": [],
   "source": [
    "#This is to get the latest tweet\n",
    "counter = 0\n",
    "\n",
    "#Scraping the URL\n",
    "browser.visit(twitter_details)\n",
    "html = browser.html\n",
    "soup = BeautifulSoup(html, \"html.parser\")\n",
    "\n",
    "#Finding all the tweets content\n",
    "allTweetsContainter = soup.findAll('div', attrs={'class': 'js-tweet-text-container'})\n",
    "\n",
    "#Iterating the tweets to get the temperature details\n",
    "for allTweetsContainter in allLi:\n",
    "    if(\"Sol\" in allTweetsContainter.find('p').text and \"pressure\" in allTweetsContainter.find('p').text and \"daylight\" in allTweetsContainter.find('p').text and counter == 0):\n",
    "        mars_weather = allTweetsContainter.find('p').text\n",
    "        counter = counter + 1\n"
   ]
  },
  {
   "cell_type": "code",
   "execution_count": 77,
   "metadata": {},
   "outputs": [
    {
     "data": {
      "text/plain": [
       "'Sol 2162 (2018-09-05), high -5C/23F, low -69C/-92F, pressure at 8.85 hPa, daylight 05:37-17:53'"
      ]
     },
     "execution_count": 77,
     "metadata": {},
     "output_type": "execute_result"
    }
   ],
   "source": [
    "mars_weather"
   ]
  },
  {
   "cell_type": "code",
   "execution_count": null,
   "metadata": {},
   "outputs": [],
   "source": []
  }
 ],
 "metadata": {
  "kernelspec": {
   "display_name": "Python [conda env:PythonData]",
   "language": "python",
   "name": "conda-env-PythonData-py"
  },
  "language_info": {
   "codemirror_mode": {
    "name": "ipython",
    "version": 3
   },
   "file_extension": ".py",
   "mimetype": "text/x-python",
   "name": "python",
   "nbconvert_exporter": "python",
   "pygments_lexer": "ipython3",
   "version": "3.6.5"
  }
 },
 "nbformat": 4,
 "nbformat_minor": 2
}
